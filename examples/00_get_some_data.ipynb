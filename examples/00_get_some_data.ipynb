{
 "cells": [
  {
   "cell_type": "markdown",
   "metadata": {},
   "source": [
    "# In this simple example, we will feed the USGS site ID, date ranges, and the param code to retrieve a dataframe \n",
    "\n",
    "### The dataframe will contain an index array of datetimes and whatever parameter code we choose."
   ]
  },
  {
   "cell_type": "code",
   "execution_count": null,
   "metadata": {},
   "outputs": [],
   "source": [
    "__author__ = 'rosskush'\n",
    "\n",
    "# bring in everything you need\n",
    "import os\n",
    "import sys\n",
    "import nwis_pull as nwis"
   ]
  },
  {
   "cell_type": "markdown",
   "metadata": {},
   "source": [
    "# lets use a site that has discharge published on nwis"
   ]
  },
  {
   "cell_type": "code",
   "execution_count": null,
   "metadata": {},
   "outputs": [],
   "source": [
    "siteid = '08169000'\n",
    "station_nm = 'Comal Rv at New Braunfels, TX'\n",
    "param_code = '00060'\n",
    "\n",
    "df = nwis.pull_data.realtime(siteid,start_date='2018-07-01',end_date='2018-07-11',param_code=param_code)"
   ]
  },
  {
   "cell_type": "markdown",
   "metadata": {},
   "source": [
    "Notice that a website is reteruned after calling the funtion. This is a huge advantage to NWIS as anyone could access any public data simply by manipulating the url to the user's whim. \n",
    "\n",
    "Click on the the url and it will take you to a rdb file located on NWIS\n",
    "\n",
    "# Now lets look at the data we pulled\n",
    "\n",
    "We can print the dataframe to check that we have the data"
   ]
  },
  {
   "cell_type": "code",
   "execution_count": null,
   "metadata": {},
   "outputs": [],
   "source": [
    "df.head(10)"
   ]
  },
  {
   "cell_type": "code",
   "execution_count": null,
   "metadata": {},
   "outputs": [],
   "source": [
    "import matplotlib.pyplot as plt\n",
    "%matplotlib notebook\n",
    "\n",
    "fig, ax = plt.subplots(figsize=(8.8,7))\n",
    "ax.plot(df.index,df[param_code])\n",
    "ax.set_ylabel('Discharge $\\\\frac{ft^3}{s}$',fontsize = 14)\n",
    "ax.grid()\n",
    "plt.title(station_nm)\n",
    "fig.autofmt_xdate()\n",
    "fig.tight_layout()\n",
    "plt.show()"
   ]
  },
  {
   "cell_type": "markdown",
   "metadata": {},
   "source": [
    "# That looks a little chuncky\n",
    "This is because the USGS has certain guidlines they follow about rounding their reported numbers, but no worries, for our purposes lets resample our 15 minute data to hourly"
   ]
  },
  {
   "cell_type": "code",
   "execution_count": null,
   "metadata": {},
   "outputs": [],
   "source": [
    "df_hr = df.resample('h').mean() # this resamples a datetime index to hourly and averages each value within the hour \n",
    "df_hr.head(10)"
   ]
  },
  {
   "cell_type": "code",
   "execution_count": null,
   "metadata": {},
   "outputs": [],
   "source": [
    "fig, ax = plt.subplots(figsize=(8.8,5))\n",
    "ax.plot(df_hr.index,df_hr[param_code])\n",
    "ax.set_ylabel('Discharge $\\\\frac{ft^3}{s}$',fontsize = 14)\n",
    "ax.grid()\n",
    "plt.title(station_nm)\n",
    "fig.autofmt_xdate()\n",
    "fig.tight_layout()\n",
    "plt.show()"
   ]
  },
  {
   "cell_type": "markdown",
   "metadata": {},
   "source": [
    "# Much nicer!! \n",
    "Now for fun lets see what it looks like daily."
   ]
  },
  {
   "cell_type": "code",
   "execution_count": null,
   "metadata": {},
   "outputs": [],
   "source": [
    "df_day = df.resample('d').mean() # this resamples a datetime index to hourly and averages each value within the hour \n",
    "df_day.head(10)"
   ]
  },
  {
   "cell_type": "code",
   "execution_count": null,
   "metadata": {},
   "outputs": [],
   "source": [
    "fig, ax = plt.subplots(figsize=(8.8,5))\n",
    "ax.plot(df_day.index,df_day[param_code])\n",
    "ax.set_ylabel('Discharge $\\\\frac{ft^3}{s}$',fontsize = 14)\n",
    "ax.grid()\n",
    "plt.title(station_nm)\n",
    "fig.autofmt_xdate()\n",
    "fig.tight_layout()\n",
    "plt.show()"
   ]
  },
  {
   "cell_type": "code",
   "execution_count": null,
   "metadata": {},
   "outputs": [],
   "source": []
  }
 ],
 "metadata": {
  "kernelspec": {
   "display_name": "Python 3",
   "language": "python",
   "name": "python3"
  },
  "language_info": {
   "codemirror_mode": {
    "name": "ipython",
    "version": 3
   },
   "file_extension": ".py",
   "mimetype": "text/x-python",
   "name": "python",
   "nbconvert_exporter": "python",
   "pygments_lexer": "ipython3",
   "version": "3.6.0"
  }
 },
 "nbformat": 4,
 "nbformat_minor": 2
}
